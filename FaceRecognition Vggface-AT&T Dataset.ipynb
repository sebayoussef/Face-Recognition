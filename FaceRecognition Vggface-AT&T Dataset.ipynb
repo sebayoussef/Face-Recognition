{
 "cells": [
  {
   "cell_type": "code",
   "execution_count": null,
   "metadata": {
    "collapsed": false
   },
   "outputs": [],
   "source": [
    "# Setting Theano as keras backend\n",
    "from keras import backend as K\n",
    "import os\n",
    "\n",
    "def set_keras_backend(backend):\n",
    "\n",
    "    if K.backend() != backend:\n",
    "        os.environ['KERAS_BACKEND'] = backend\n",
    "        reload(K)\n",
    "        assert K.backend() == backend\n",
    "\n",
    "set_keras_backend(\"tensorflow\")"
   ]
  },
  {
   "cell_type": "code",
   "execution_count": 1,
   "metadata": {
    "collapsed": false
   },
   "outputs": [
    {
     "name": "stderr",
     "output_type": "stream",
     "text": [
      "Using TensorFlow backend.\n"
     ]
    }
   ],
   "source": [
    "from keras.engine import  Model\n",
    "from keras.layers import Flatten, Dense, Input\n",
    "from keras_vggface.vggface import VGGFace\n",
    "from keras_vggface import utils\n",
    "import numpy as np\n",
    "from keras.preprocessing.image import ImageDataGenerator\n",
    "from keras.applications.imagenet_utils import preprocess_input, decode_predictions\n",
    "from keras.preprocessing import image\n",
    "from keras import optimizers\n",
    "from keras.models import Sequential\n",
    "from keras.callbacks import ModelCheckpoint,ReduceLROnPlateau, TensorBoard\n",
    "from keras.optimizers import Adam, SGD, Nadam, RMSprop\n",
    "from keras.preprocessing import image"
   ]
  },
  {
   "cell_type": "code",
   "execution_count": 2,
   "metadata": {
    "collapsed": false
   },
   "outputs": [
    {
     "name": "stdout",
     "output_type": "stream",
     "text": [
      "CNN Weights Loaded.\n"
     ]
    }
   ],
   "source": [
    "# Load weights of convolution layers\n",
    "from keras import backend as K\n",
    "vgg_model = VGGFace(include_top=False,weights='vggface', input_shape=(92,112,3))\n",
    "print('CNN Weights Loaded.')"
   ]
  },
  {
   "cell_type": "code",
   "execution_count": 3,
   "metadata": {
    "collapsed": false
   },
   "outputs": [
    {
     "name": "stdout",
     "output_type": "stream",
     "text": [
      "_________________________________________________________________\n",
      "Layer (type)                 Output Shape              Param #   \n",
      "=================================================================\n",
      "input_1 (InputLayer)         (None, 92, 112, 3)        0         \n",
      "_________________________________________________________________\n",
      "conv1_1 (Conv2D)             (None, 92, 112, 64)       1792      \n",
      "_________________________________________________________________\n",
      "conv1_2 (Conv2D)             (None, 92, 112, 64)       36928     \n",
      "_________________________________________________________________\n",
      "pool1 (MaxPooling2D)         (None, 46, 56, 64)        0         \n",
      "_________________________________________________________________\n",
      "conv2_1 (Conv2D)             (None, 46, 56, 128)       73856     \n",
      "_________________________________________________________________\n",
      "conv2_2 (Conv2D)             (None, 46, 56, 128)       147584    \n",
      "_________________________________________________________________\n",
      "pool2 (MaxPooling2D)         (None, 23, 28, 128)       0         \n",
      "_________________________________________________________________\n",
      "conv3_1 (Conv2D)             (None, 23, 28, 256)       295168    \n",
      "_________________________________________________________________\n",
      "conv3_2 (Conv2D)             (None, 23, 28, 256)       590080    \n",
      "_________________________________________________________________\n",
      "conv3_3 (Conv2D)             (None, 23, 28, 256)       590080    \n",
      "_________________________________________________________________\n",
      "pool3 (MaxPooling2D)         (None, 11, 14, 256)       0         \n",
      "_________________________________________________________________\n",
      "conv4_1 (Conv2D)             (None, 11, 14, 512)       1180160   \n",
      "_________________________________________________________________\n",
      "conv4_2 (Conv2D)             (None, 11, 14, 512)       2359808   \n",
      "_________________________________________________________________\n",
      "conv4_3 (Conv2D)             (None, 11, 14, 512)       2359808   \n",
      "_________________________________________________________________\n",
      "pool4 (MaxPooling2D)         (None, 5, 7, 512)         0         \n",
      "_________________________________________________________________\n",
      "conv5_1 (Conv2D)             (None, 5, 7, 512)         2359808   \n",
      "_________________________________________________________________\n",
      "conv5_2 (Conv2D)             (None, 5, 7, 512)         2359808   \n",
      "_________________________________________________________________\n",
      "conv5_3 (Conv2D)             (None, 5, 7, 512)         2359808   \n",
      "_________________________________________________________________\n",
      "pool5 (MaxPooling2D)         (None, 2, 3, 512)         0         \n",
      "_________________________________________________________________\n",
      "flatten (Flatten)            (None, 3072)              0         \n",
      "_________________________________________________________________\n",
      "fc6 (Dense)                  (None, 512)               1573376   \n",
      "_________________________________________________________________\n",
      "fc7 (Dense)                  (None, 512)               262656    \n",
      "_________________________________________________________________\n",
      "fc8 (Dense)                  (None, 5)                 2565      \n",
      "=================================================================\n",
      "Total params: 16,553,285\n",
      "Trainable params: 1,838,597\n",
      "Non-trainable params: 14,714,688\n",
      "_________________________________________________________________\n"
     ]
    }
   ],
   "source": [
    "#custom parameters\n",
    "nb_class = 5\n",
    "hidden_dim = 512\n",
    "\n",
    "last_layer = vgg_model.get_layer('pool5').output\n",
    "x = Flatten(name='flatten')(last_layer)\n",
    "x = Dense(hidden_dim, activation='relu', name='fc6')(x)\n",
    "x = Dense(hidden_dim, activation='relu', name='fc7')(x)\n",
    "out = Dense(nb_class, activation='softmax', name='fc8')(x)\n",
    "custom_vgg_model = Model(vgg_model.input, out)\n",
    "\n",
    "# Finetuning: only the last 3 fully connected layers are trained. The rest are made non-trainable.\n",
    "layer_count = 0\n",
    "for layer in custom_vgg_model.layers:\n",
    "    layer_count = layer_count+1\n",
    "for l in range(layer_count-3):\n",
    "    custom_vgg_model.layers[l].trainable=False\n",
    "    \n",
    "custom_vgg_model.summary()"
   ]
  },
  {
   "cell_type": "code",
   "execution_count": 4,
   "metadata": {
    "collapsed": true
   },
   "outputs": [],
   "source": [
    "# Loading train, test and validation data\n",
    "train_data_dir = '/Users/seba/Desktop/Dataset2/train'\n",
    "validation_data_dir = '/Users/seba/Desktop/Dataset2/validate'\n",
    "#test_data_dir = '/Users/seba/Desktop/Dataset/test'\n",
    "nb_train_samples = 5\n",
    "nb_validation_samples = 5\n",
    "#nb_test_samples = 8\n",
    "img_height = 92\n",
    "img_width = 112 \n",
    "batch_size = 5"
   ]
  },
  {
   "cell_type": "code",
   "execution_count": null,
   "metadata": {
    "collapsed": true
   },
   "outputs": [],
   "source": [
    "#image preprocessing \n",
    "def preprocess_input(x):\n",
    "    # 'RGB'->'BGR'\n",
    "    x = x[:, :, ::-1]\n",
    "    # Zero-center by mean pixel\n",
    "    x[:, :, 0] -= 103.939\n",
    "    x[:, :, 1] -= 116.779\n",
    "    x[:, :, 2] -= 123.68\n",
    "    return x"
   ]
  },
  {
   "cell_type": "code",
   "execution_count": 5,
   "metadata": {
    "collapsed": false
   },
   "outputs": [
    {
     "name": "stdout",
     "output_type": "stream",
     "text": [
      "Found 25 images belonging to 5 classes.\n",
      "Found 25 images belonging to 5 classes.\n"
     ]
    }
   ],
   "source": [
    "# prepare data augmentation configuration\n",
    "validate_datagen = ImageDataGenerator(\n",
    "    preprocessing_function=utils.preprocess_input,\n",
    "    featurewise_center=True,\n",
    "    featurewise_std_normalization=True,\n",
    "    samplewise_center=False,\n",
    "    samplewise_std_normalization=False)\n",
    "\n",
    "\n",
    "train_datagen = ImageDataGenerator(\n",
    "    preprocessing_function=utils.preprocess_input,\n",
    "    featurewise_center=True, \n",
    "    featurewise_std_normalization=True,  \n",
    "    rotation_range=20,\n",
    "    width_shift_range=0.2,\n",
    "    height_shift_range=0.2,\n",
    "    zoom_range=0.2,\n",
    "    horizontal_flip=True,\n",
    "    samplewise_center=False,\n",
    "    samplewise_std_normalization=False)\n",
    "\n",
    "\n",
    "train_generator = train_datagen.flow_from_directory(\n",
    "    train_data_dir,\n",
    "    target_size=(img_height,img_width),\n",
    "    batch_size=32,\n",
    "    class_mode='categorical')\n",
    "\n",
    "validation_generator = validate_datagen.flow_from_directory(\n",
    "    validation_data_dir,\n",
    "    target_size=(img_height,img_width),\n",
    "    batch_size=32,\n",
    "    class_mode='categorical')"
   ]
  },
  {
   "cell_type": "code",
   "execution_count": 6,
   "metadata": {
    "collapsed": false
   },
   "outputs": [],
   "source": [
    "# Compile model \n",
    "custom_vgg_model.compile(optimizer=SGD(lr=0.00000000001, momentum=0.7, decay=1e-4), loss='categorical_crossentropy',metrics=['accuracy'])\n",
    "#reduce_lr = ReduceLROnPlateau(monitor='val_loss', factor=0.8,patience=0, min_lr=1e-6)\n",
    "tensorboard_callback=TensorBoard(log_dir='/Users/seba/Desktop/Face Recognition/Logs/log_1/', histogram_freq=0,write_graph=True,write_images=False)\n"
   ]
  },
  {
   "cell_type": "code",
   "execution_count": 7,
   "metadata": {
    "collapsed": false
   },
   "outputs": [
    {
     "name": "stdout",
     "output_type": "stream",
     "text": [
      "Epoch 1/10\n"
     ]
    },
    {
     "name": "stderr",
     "output_type": "stream",
     "text": [
      "/Users/seba/anaconda/lib/python2.7/site-packages/keras/preprocessing/image.py:506: UserWarning: This ImageDataGenerator specifies `featurewise_center`, but it hasn'tbeen fit on any training data. Fit it first by calling `.fit(numpy_data)`.\n",
      "  warnings.warn('This ImageDataGenerator specifies '\n",
      "/Users/seba/anaconda/lib/python2.7/site-packages/keras/preprocessing/image.py:514: UserWarning: This ImageDataGenerator specifies `featurewise_std_normalization`, but it hasn'tbeen fit on any training data. Fit it first by calling `.fit(numpy_data)`.\n",
      "  warnings.warn('This ImageDataGenerator specifies '\n"
     ]
    },
    {
     "name": "stdout",
     "output_type": "stream",
     "text": [
      "1/1 [==============================] - 16s - loss: 6.2119 - acc: 0.2000 - val_loss: 10.8442 - val_acc: 0.1200\n",
      "Epoch 2/10\n",
      "1/1 [==============================] - 12s - loss: 8.0515 - acc: 0.1600 - val_loss: 10.8442 - val_acc: 0.1200\n",
      "Epoch 3/10\n",
      "1/1 [==============================] - 12s - loss: 9.1036 - acc: 0.1200 - val_loss: 10.8442 - val_acc: 0.1200\n",
      "Epoch 4/10\n",
      "1/1 [==============================] - 13s - loss: 10.6181 - acc: 0.0800 - val_loss: 10.8442 - val_acc: 0.1200\n",
      "Epoch 5/10\n",
      "1/1 [==============================] - 14s - loss: 8.3896 - acc: 0.1600 - val_loss: 10.8442 - val_acc: 0.1200\n",
      "Epoch 6/10\n",
      "1/1 [==============================] - 14s - loss: 7.0171 - acc: 0.2800 - val_loss: 10.8442 - val_acc: 0.1200\n",
      "Epoch 7/10\n",
      "1/1 [==============================] - 13s - loss: 6.3017 - acc: 0.2000 - val_loss: 10.8442 - val_acc: 0.1200\n",
      "Epoch 8/10\n",
      "1/1 [==============================] - 14s - loss: 8.5763 - acc: 0.1200 - val_loss: 10.8442 - val_acc: 0.1200\n",
      "Epoch 9/10\n",
      "1/1 [==============================] - 13s - loss: 9.1957 - acc: 0.1600 - val_loss: 10.8442 - val_acc: 0.1200\n",
      "Epoch 10/10\n",
      "1/1 [==============================] - 12s - loss: 7.6833 - acc: 0.2400 - val_loss: 10.8442 - val_acc: 0.1200\n"
     ]
    },
    {
     "data": {
      "text/plain": [
       "<keras.callbacks.History at 0x1195ce3d0>"
      ]
     },
     "execution_count": 7,
     "metadata": {},
     "output_type": "execute_result"
    }
   ],
   "source": [
    "# Finetuning: train last 3 fully connected layers\n",
    "custom_vgg_model.fit_generator( \n",
    "    train_generator,\n",
    "    steps_per_epoch=nb_train_samples/5,\n",
    "    epochs=10,\n",
    "    validation_data=validation_generator,\n",
    "    validation_steps=nb_validation_samples/5,callbacks=[tensorboard_callback])"
   ]
  },
  {
   "cell_type": "code",
   "execution_count": null,
   "metadata": {
    "collapsed": true
   },
   "outputs": [],
   "source": [
    "# batch_size??\n",
    "# Validation_steps??\n",
    "\n",
    "#The number of samples processed for each epoch is batch_size * steps_per_epochs.\n",
    "#steps_per_epoch = number of times weights are updated per epoch"
   ]
  }
 ],
 "metadata": {
  "kernelspec": {
   "display_name": "Python 2",
   "language": "python",
   "name": "python2"
  },
  "language_info": {
   "codemirror_mode": {
    "name": "ipython",
    "version": 2
   },
   "file_extension": ".py",
   "mimetype": "text/x-python",
   "name": "python",
   "nbconvert_exporter": "python",
   "pygments_lexer": "ipython2",
   "version": "2.7.13"
  }
 },
 "nbformat": 4,
 "nbformat_minor": 2
}
